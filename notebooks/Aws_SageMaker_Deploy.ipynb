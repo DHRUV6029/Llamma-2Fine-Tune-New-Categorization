{
  "nbformat": 4,
  "nbformat_minor": 0,
  "metadata": {
    "colab": {
      "provenance": []
    },
    "kernelspec": {
      "name": "python3",
      "display_name": "Python 3"
    },
    "language_info": {
      "name": "python"
    }
  },
  "cells": [
    {
      "cell_type": "code",
      "execution_count": 24,
      "metadata": {
        "id": "l0ZcXSJoFsT8"
      },
      "outputs": [],
      "source": [
        "import json\n",
        "import sagemaker\n",
        "import boto3\n",
        "from sagemaker.huggingface import HuggingFaceModel, get_huggingface_llm_image_uri"
      ]
    },
    {
      "cell_type": "code",
      "source": [
        "#!pip install sagemaker\n"
      ],
      "metadata": {
        "id": "1ELwRsTRF6Zl"
      },
      "execution_count": 25,
      "outputs": []
    },
    {
      "cell_type": "code",
      "source": [
        "!pip install aws configure\n",
        "\n",
        "!pip install awscli\n",
        "\n",
        "!aws configure"
      ],
      "metadata": {
        "colab": {
          "base_uri": "https://localhost:8080/"
        },
        "id": "_LOanvM5J5bd",
        "outputId": "1db51c45-0671-4b04-e318-da3034eda8e2"
      },
      "execution_count": 26,
      "outputs": [
        {
          "output_type": "stream",
          "name": "stdout",
          "text": [
            "Requirement already satisfied: aws in /usr/local/lib/python3.10/dist-packages (0.2.5)\n",
            "Requirement already satisfied: configure in /usr/local/lib/python3.10/dist-packages (0.5)\n",
            "Requirement already satisfied: boto in /usr/local/lib/python3.10/dist-packages (from aws) (2.49.0)\n",
            "Requirement already satisfied: fabric>=1.6 in /usr/local/lib/python3.10/dist-packages (from aws) (3.2.2)\n",
            "Requirement already satisfied: prettytable>=0.7 in /usr/local/lib/python3.10/dist-packages (from aws) (3.9.0)\n",
            "Requirement already satisfied: pyyaml in /usr/local/lib/python3.10/dist-packages (from configure) (6.0.1)\n",
            "Requirement already satisfied: invoke>=2.0 in /usr/local/lib/python3.10/dist-packages (from fabric>=1.6->aws) (2.2.0)\n",
            "Requirement already satisfied: paramiko>=2.4 in /usr/local/lib/python3.10/dist-packages (from fabric>=1.6->aws) (3.3.1)\n",
            "Requirement already satisfied: decorator>=5 in /usr/local/lib/python3.10/dist-packages (from fabric>=1.6->aws) (5.1.1)\n",
            "Requirement already satisfied: deprecated>=1.2 in /usr/local/lib/python3.10/dist-packages (from fabric>=1.6->aws) (1.2.14)\n",
            "Requirement already satisfied: wcwidth in /usr/local/lib/python3.10/dist-packages (from prettytable>=0.7->aws) (0.2.10)\n",
            "Requirement already satisfied: wrapt<2,>=1.10 in /usr/local/lib/python3.10/dist-packages (from deprecated>=1.2->fabric>=1.6->aws) (1.14.1)\n",
            "Requirement already satisfied: bcrypt>=3.2 in /usr/local/lib/python3.10/dist-packages (from paramiko>=2.4->fabric>=1.6->aws) (4.0.1)\n",
            "Requirement already satisfied: cryptography>=3.3 in /usr/local/lib/python3.10/dist-packages (from paramiko>=2.4->fabric>=1.6->aws) (41.0.5)\n",
            "Requirement already satisfied: pynacl>=1.5 in /usr/local/lib/python3.10/dist-packages (from paramiko>=2.4->fabric>=1.6->aws) (1.5.0)\n",
            "Requirement already satisfied: cffi>=1.12 in /usr/local/lib/python3.10/dist-packages (from cryptography>=3.3->paramiko>=2.4->fabric>=1.6->aws) (1.16.0)\n",
            "Requirement already satisfied: pycparser in /usr/local/lib/python3.10/dist-packages (from cffi>=1.12->cryptography>=3.3->paramiko>=2.4->fabric>=1.6->aws) (2.21)\n",
            "Requirement already satisfied: awscli in /usr/local/lib/python3.10/dist-packages (1.30.5)\n",
            "Requirement already satisfied: botocore==1.32.5 in /usr/local/lib/python3.10/dist-packages (from awscli) (1.32.5)\n",
            "Requirement already satisfied: docutils<0.17,>=0.10 in /usr/local/lib/python3.10/dist-packages (from awscli) (0.16)\n",
            "Requirement already satisfied: s3transfer<0.8.0,>=0.7.0 in /usr/local/lib/python3.10/dist-packages (from awscli) (0.7.0)\n",
            "Requirement already satisfied: PyYAML<6.1,>=3.10 in /usr/local/lib/python3.10/dist-packages (from awscli) (6.0.1)\n",
            "Requirement already satisfied: colorama<0.4.5,>=0.2.5 in /usr/local/lib/python3.10/dist-packages (from awscli) (0.4.4)\n",
            "Requirement already satisfied: rsa<4.8,>=3.1.2 in /usr/local/lib/python3.10/dist-packages (from awscli) (4.7.2)\n",
            "Requirement already satisfied: jmespath<2.0.0,>=0.7.1 in /usr/local/lib/python3.10/dist-packages (from botocore==1.32.5->awscli) (1.0.1)\n",
            "Requirement already satisfied: python-dateutil<3.0.0,>=2.1 in /usr/local/lib/python3.10/dist-packages (from botocore==1.32.5->awscli) (2.8.2)\n",
            "Requirement already satisfied: urllib3<2.1,>=1.25.4 in /usr/local/lib/python3.10/dist-packages (from botocore==1.32.5->awscli) (2.0.7)\n",
            "Requirement already satisfied: pyasn1>=0.1.3 in /usr/local/lib/python3.10/dist-packages (from rsa<4.8,>=3.1.2->awscli) (0.5.0)\n",
            "Requirement already satisfied: six>=1.5 in /usr/local/lib/python3.10/dist-packages (from python-dateutil<3.0.0,>=2.1->botocore==1.32.5->awscli) (1.16.0)\n",
            "AWS Access Key ID [****************DUHX]: \n",
            "AWS Secret Access Key [****************7Vpp]: \n",
            "Default region name [us-east-1]: \n",
            "Default output format [None]: \n"
          ]
        }
      ]
    },
    {
      "cell_type": "code",
      "source": [
        "#get aws aern role\n",
        "try:\n",
        "  role = sagemaker.get_execution_role()\n",
        "  print(role)\n",
        "except Exception as e:\n",
        "  iam = boto3.client('iam')\n",
        "  role = iam.get_role(RoleName='awssagemakerrole')['Role']['Arn']\n",
        "  print(role)"
      ],
      "metadata": {
        "colab": {
          "base_uri": "https://localhost:8080/"
        },
        "id": "m_Z0Pbe9GPhV",
        "outputId": "6fe0cb90-63b6-4837-e251-f7710e4a4b32"
      },
      "execution_count": 27,
      "outputs": [
        {
          "output_type": "stream",
          "name": "stdout",
          "text": [
            "sagemaker.config INFO - Not applying SDK defaults from location: /etc/xdg/sagemaker/config.yaml\n",
            "sagemaker.config INFO - Not applying SDK defaults from location: /root/.config/sagemaker/config.yaml\n"
          ]
        },
        {
          "output_type": "stream",
          "name": "stderr",
          "text": [
            "WARNING:sagemaker:Couldn't call 'get_role' to get Role ARN from role name arn:aws:iam::182773025654:root to get Role path.\n"
          ]
        },
        {
          "output_type": "stream",
          "name": "stdout",
          "text": [
            "arn:aws:iam::182773025654:role/awssagemakerrole\n"
          ]
        }
      ]
    },
    {
      "cell_type": "code",
      "source": [
        "hub = {\n",
        "\t'HF_MODEL_ID':'Dhruv6029/news-classification-18Cat-llama-2-7b',\n",
        "\t'SM_NUM_GPUS': json.dumps(1)\n",
        "}\n"
      ],
      "metadata": {
        "id": "nzoqHjR6jW4w"
      },
      "execution_count": 28,
      "outputs": []
    },
    {
      "cell_type": "code",
      "source": [
        "huggingface_model = HuggingFaceModel(\n",
        "\timage_uri=get_huggingface_llm_image_uri(\"huggingface\",version=\"1.1.0\"),\n",
        "\tenv=hub,\n",
        "\trole=role,\n",
        ")"
      ],
      "metadata": {
        "colab": {
          "base_uri": "https://localhost:8080/"
        },
        "id": "86p42rM8igwM",
        "outputId": "37207a68-441e-44fa-e6f9-55c3497cb0f8"
      },
      "execution_count": 29,
      "outputs": [
        {
          "output_type": "stream",
          "name": "stdout",
          "text": [
            "sagemaker.config INFO - Not applying SDK defaults from location: /etc/xdg/sagemaker/config.yaml\n",
            "sagemaker.config INFO - Not applying SDK defaults from location: /root/.config/sagemaker/config.yaml\n",
            "sagemaker.config INFO - Not applying SDK defaults from location: /etc/xdg/sagemaker/config.yaml\n",
            "sagemaker.config INFO - Not applying SDK defaults from location: /root/.config/sagemaker/config.yaml\n",
            "sagemaker.config INFO - Not applying SDK defaults from location: /etc/xdg/sagemaker/config.yaml\n",
            "sagemaker.config INFO - Not applying SDK defaults from location: /root/.config/sagemaker/config.yaml\n"
          ]
        }
      ]
    },
    {
      "cell_type": "code",
      "source": [
        "predictor = huggingface_model.deploy(\n",
        "\tinitial_instance_count=1,\n",
        "\tinstance_type=\"ml.g5.xlarge\",\n",
        "\tcontainer_startup_health_check_timeout=300,\n",
        "  )"
      ],
      "metadata": {
        "colab": {
          "base_uri": "https://localhost:8080/"
        },
        "id": "-fG490HQjhOL",
        "outputId": "9f23c024-d8a6-419b-f044-4d98acd0d598"
      },
      "execution_count": 30,
      "outputs": [
        {
          "output_type": "stream",
          "name": "stdout",
          "text": [
            "------------!"
          ]
        }
      ]
    },
    {
      "cell_type": "code",
      "source": [
        "endpoint_name = predictor.endpoint_name\n",
        "print(endpoint_name)"
      ],
      "metadata": {
        "colab": {
          "base_uri": "https://localhost:8080/"
        },
        "id": "cbyI96FlW9OH",
        "outputId": "be62bc5c-e2c8-4c44-884a-65ceb401647d"
      },
      "execution_count": 32,
      "outputs": [
        {
          "output_type": "stream",
          "name": "stdout",
          "text": [
            "huggingface-pytorch-tgi-inference-2023-11-22-23-06-43-290\n"
          ]
        }
      ]
    }
  ]
}